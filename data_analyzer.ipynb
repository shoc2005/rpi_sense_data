{
 "cells": [
  {
   "cell_type": "code",
   "execution_count": 1,
   "metadata": {
    "collapsed": true,
    "deletable": true,
    "editable": true
   },
   "outputs": [],
   "source": [
    "# The notebook contantains methodes for bin files reading and visualizing (IMU data)"
   ]
  },
  {
   "cell_type": "code",
   "execution_count": 55,
   "metadata": {
    "collapsed": false,
    "deletable": true,
    "editable": true
   },
   "outputs": [],
   "source": [
    "from struct import *\n",
    "import pandas as pd\n",
    "import os.path as path\n",
    "%matplotlib inline\n",
    "import matplotlib.pyplot as plt\n",
    "from os import listdir\n",
    "from os.path import isfile\n",
    "from os.path import join"
   ]
  },
  {
   "cell_type": "code",
   "execution_count": 35,
   "metadata": {
    "collapsed": true,
    "deletable": true,
    "editable": true
   },
   "outputs": [],
   "source": [
    "def load_data(file_name, sense_type, debug_out = True):\n",
    "    # sense_type: 'ACR', 'ACN', 'GYR', 'GYN', 'HUN', 'BAN', 'HTN', 'PTN', 'BTN'\n",
    "    # If sense_type is in ['ACR', 'ACN', 'GYR', 'GYN'] then x, y, and z component are available and sense_type has \n",
    "    # additional last symbol 'C', otherwise the last symbol is 'N'. For example, 'ACRC' or 'BTNN'\n",
    "    # The data field's mask is: 'SENSE_TYPE[s]'+'C[s]'+'x_value[f]'+'y_value[f]'+'z_value[f]'+'Time[f]' \n",
    "    # or 'SENSE_TYPE[s]'+'N[s]'+'value[f]'+'Time[f]'.\n",
    "\n",
    "    # open and read data\n",
    "    f = open(file_name, 'rb')\n",
    "    data = f.read()\n",
    "    f.close()\n",
    "    \n",
    "    \n",
    "    # parse data fields\n",
    "    position = 0\n",
    "    counter = 0\n",
    "    fields_found = {}\n",
    "    triple_fields = ['ACRC', 'ACNC', 'GYRC', 'GYNC']\n",
    "    single_fields = ['HUNN', 'BANN', 'HTNN', 'PTNN', 'BTNN', 'IMAG']\n",
    "\n",
    "    \n",
    "    \n",
    "    if sense_type + 'C' in triple_fields:\n",
    "        columns = ['x', 'y', 'z', 'time']\n",
    "    elif sense_type + 'N' in single_fields or sense_type == 'IMAG':\n",
    "        columns = ['value', 'time']\n",
    "    else:\n",
    "        print 'Your provided sense type is not recognized!'\n",
    "        return None\n",
    "    \n",
    "    value_series = []\n",
    "    \n",
    "    while len(data) > 0:\n",
    "        if position + 4 > len (data):\n",
    "            break\n",
    "            \n",
    "        data_pos = data[position:position + 4]\n",
    "        if data_pos in triple_fields:               \n",
    "            # read triple component\n",
    "            if data_pos[:-1] == sense_type:\n",
    "                unpack_data = data[position + 4: position + 4 + 12 + 8]\n",
    "                values = unpack('<fffd', unpack_data)\n",
    "                value_series.append(values)\n",
    "                counter += 1\n",
    "            \n",
    "        elif data_pos in single_fields:\n",
    "            # read single component\n",
    "            if data_pos[:-1] == sense_type and sense_type != 'IMAG':\n",
    "                unpack_data = data[position + 4: position + 4 + 4 + 8]\n",
    "                values = unpack('<fd', unpack_data)\n",
    "                value_series.append(values)\n",
    "                counter += 1\n",
    "            elif sense_type == 'IMAG' and data_pos == sense_type:\n",
    "                unpack_data = data[position + 4: position + 4 + 4 + 8]\n",
    "                values = unpack('<Id', unpack_data)\n",
    "                value_series.append(values)\n",
    "                counter += 1                \n",
    "        \n",
    "        # count data fields\n",
    "        if (data_pos in triple_fields) or (data_pos in single_fields):\n",
    "            if fields_found.has_key(data_pos):\n",
    "                fields_found[data_pos] = fields_found[data_pos] + 1\n",
    "            else:\n",
    "                fields_found[data_pos] = 1\n",
    "                \n",
    "        # shift reading position\n",
    "        position += 1\n",
    "    \n",
    "    data_series = pd.DataFrame(value_series, columns=columns)\n",
    "    \n",
    "    # get detected fields info\n",
    "    if debug_out:\n",
    "        for key in fields_found.keys():\n",
    "            print \"For {:s} readed {:d} records\".format(key[:-1], fields_found[key])\n",
    "    \n",
    "    return data_series\n"
   ]
  },
  {
   "cell_type": "code",
   "execution_count": 62,
   "metadata": {
    "collapsed": false
   },
   "outputs": [],
   "source": [
    "def load_from_all_dumps(dump_dir, sense_type):\n",
    "    # loads the sense type from all dump files in the dump_dir\n",
    "    \n",
    "    # list of dumpfiles and sort them in increasing order\n",
    "    files_tup = [(join(dump_dir,file_name), int(file_name[5:11])) for file_name in listdir(dump_dir) \\\n",
    "                 if isfile(join(dump_dir, file_name)) and file_name[-3:] == 'bin']\n",
    "    \n",
    "    print \"Files found:\", len(files_tup)\n",
    "    if len(files_tup) == 0:\n",
    "        print \"Files not found in {:s}\".format(dump_dir)\n",
    "        return None\n",
    "    \n",
    "    # sort list for tuples\n",
    "    files_tup.sort(key=lambda tup:tup[1])\n",
    "    \n",
    "    # process the each dump file\n",
    "    dataset = None\n",
    "    for file_name, file_id in files_tup:\n",
    "        if dataset is None:\n",
    "            dataset = load_data(file_name, sense_type)\n",
    "        else:\n",
    "            new_part = load_data(file_name, sense_type, debug_out=False)\n",
    "            dataset = pd.concat([dataset, new_part])\n",
    "    \n",
    "    return dataset"
   ]
  },
  {
   "cell_type": "code",
   "execution_count": 21,
   "metadata": {
    "collapsed": false,
    "deletable": true,
    "editable": true
   },
   "outputs": [
    {
     "name": "stdout",
     "output_type": "stream",
     "text": [
      "For BTN readed 6 records\n",
      "For GYR readed 12477 records\n",
      "For HUN readed 6 records\n",
      "For IMA readed 28 records\n",
      "For ACR readed 12477 records\n",
      "For HTN readed 6 records\n",
      "(6, 2)\n",
      "       value          time\n",
      "0  37.455605  1.504106e+09\n",
      "1  37.346035  1.504107e+09\n",
      "2  37.437344  1.504107e+09\n",
      "3  37.437344  1.504107e+09\n",
      "4  37.455605  1.504107e+09\n",
      "5  37.400818  1.504107e+09\n"
     ]
    }
   ],
   "source": [
    "sense_data = load_data('/home/sholc/optic_env/sources/hdeer/dump_3_30.08.2017/dump_000004.bin', 'HTN')\n",
    "print sense_data.shape\n",
    "print sense_data.tail(10)\n"
   ]
  },
  {
   "cell_type": "code",
   "execution_count": 22,
   "metadata": {
    "collapsed": false,
    "deletable": true,
    "editable": true
   },
   "outputs": [
    {
     "data": {
      "text/plain": [
       "<matplotlib.axes._subplots.AxesSubplot at 0x7f76df598950>"
      ]
     },
     "execution_count": 22,
     "metadata": {},
     "output_type": "execute_result"
    },
    {
     "data": {
      "image/png": "[encoded data removed]",
      "text/plain": [
       "<matplotlib.figure.Figure at 0x7f76dfa36990>"
      ]
     },
     "metadata": {},
     "output_type": "display_data"
    }
   ],
   "source": [
    "sense_data.plot(kind='line', x=['time'], y=['value'], figsize=(10, 12))"
   ]
  },
  {
   "cell_type": "code",
   "execution_count": 63,
   "metadata": {
    "collapsed": false,
    "deletable": true,
    "editable": true
   },
   "outputs": [
    {
     "name": "stdout",
     "output_type": "stream",
     "text": [
      "Files found: 49\n",
      "For BTN readed 7 records\n",
      "For GYR readed 12477 records\n",
      "For HUN readed 7 records\n",
      "For IMA readed 28 records\n",
      "For ACR readed 12474 records\n",
      "For HTN readed 7 records\n"
     ]
    }
   ],
   "source": [
    "data_full= load_from_all_dumps('/home/sholc/optic_env/sources/hdeer/dump_3_30.08.2017', 'ACR')\n"
   ]
  },
  {
   "cell_type": "code",
   "execution_count": 64,
   "metadata": {
    "collapsed": false
   },
   "outputs": [
    {
     "name": "stdout",
     "output_type": "stream",
     "text": [
      "(611349, 4)\n"
     ]
    }
   ],
   "source": [
    "print data_full.shape"
   ]
  },
  {
   "cell_type": "code",
   "execution_count": 65,
   "metadata": {
    "collapsed": false
   },
   "outputs": [
    {
     "data": {
      "text/plain": [
       "<matplotlib.axes._subplots.AxesSubplot at 0x7f76dfaa8b50>"
      ]
     },
     "execution_count": 65,
     "metadata": {},
     "output_type": "execute_result"
    },
    {
     "data": {
      "image/png": "[encoded data removed]",
      "text/plain": [
       "<matplotlib.figure.Figure at 0x7f76df46be10>"
      ]
     },
     "metadata": {},
     "output_type": "display_data"
    }
   ],
   "source": [
    "data_full.plot(kind='line', x=['time'], y=['x'], figsize=(10, 12))"
   ]
  },
  {
   "cell_type": "code",
   "execution_count": null,
   "metadata": {
    "collapsed": true
   },
   "outputs": [],
   "source": []
  }
 ],
 "metadata": {
  "kernelspec": {
   "display_name": "Python 2",
   "language": "python",
   "name": "python2"
  },
  "language_info": {
   "codemirror_mode": {
    "name": "ipython",
    "version": 2
   },
   "file_extension": ".py",
   "mimetype": "text/x-python",
   "name": "python",
   "nbconvert_exporter": "python",
   "pygments_lexer": "ipython2",
   "version": "2.7.12"
  }
 },
 "nbformat": 4,
 "nbformat_minor": 2
}
