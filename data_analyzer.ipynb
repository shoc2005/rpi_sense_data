{
 "cells": [
  {
   "cell_type": "code",
   "execution_count": 1,
   "metadata": {
    "collapsed": true
   },
   "outputs": [],
   "source": [
    "# The notebook contantains methodes for bin files reading and visualizing (IMU data)"
   ]
  },
  {
   "cell_type": "code",
   "execution_count": 28,
   "metadata": {
    "collapsed": false
   },
   "outputs": [],
   "source": [
    "from struct import *\n",
    "import pandas as pd\n",
    "import os.path as path\n",
    "%matplotlib inline\n",
    "import matplotlib.pyplot as plt"
   ]
  },
  {
   "cell_type": "code",
   "execution_count": 25,
   "metadata": {
    "collapsed": true
   },
   "outputs": [],
   "source": [
    "def load_data(file_name, sense_type):\n",
    "    # sense_type: 'ACR', 'ACN', 'GYR', 'GYN', 'HUN', 'BAN', 'HTN', 'PTN', 'BTN'\n",
    "    # If sense_type is in ['ACR', 'ACN', 'GYR', 'GYN'] then x, y, and z component are available and sense_type has \n",
    "    # additional last symbol 'C', otherwise the last symbol is 'N'. For example, 'ACRC' or 'BTNN'\n",
    "    # The data field's mask is: 'SENSE_TYPE[s]'+'C[s]'+'x_value[f]'+'y_value[f]'+'z_value[f]'+'Time[f]' \n",
    "    # or 'SENSE_TYPE[s]'+'N[s]'+'value[f]'+'Time[f]'.\n",
    "\n",
    "    # open and read data\n",
    "    f = open(file_name, 'rb')\n",
    "    data = f.read()\n",
    "    f.close()\n",
    "    \n",
    "    \n",
    "    # parse data fields\n",
    "    position = 0\n",
    "    counter = 0\n",
    "    fields_found = {}\n",
    "    triple_fields = ['ACRC', 'ACNC', 'GYRC', 'GYNC']\n",
    "    single_fields = ['HUNN', 'BANN', 'HTNN', 'PTNN', 'BTNN']\n",
    "\n",
    "    \n",
    "    \n",
    "    if sense_type + 'C' in triple_fields:\n",
    "        data_series = pd.DataFrame(columns=['x', 'y', 'z', 'time'])\n",
    "    elif sense_type + 'N' in single_fields:\n",
    "        data_series = pd.DataFrame(columns=['value', 'time'])\n",
    "    else:\n",
    "        print 'Your provided sense type is not recognized!'\n",
    "        return None\n",
    "    \n",
    "    while len(data) > 0:\n",
    "        if position + 4 > len (data):\n",
    "            break\n",
    "        data_pos = data[position:position + 4]\n",
    "        if data_pos in triple_fields:               \n",
    "            # read triple component\n",
    "            if data_pos[:-1] == sense_type:\n",
    "                unpack_data = data[position + 4: position + 4 + 16]\n",
    "                values = unpack('<ffff', unpack_data)\n",
    "                data_series.loc[counter]= values\n",
    "                #data_series.loc[counter]['y'] = values[1]\n",
    "                #data_series.loc[counter]['z'] = values[2]\n",
    "                #data_series.loc[counter]['time'] = values[3]\n",
    "                counter += 1\n",
    "            \n",
    "        elif data_pos in single_fields:\n",
    "            # read single component\n",
    "            if data_pos[:-1] == sense_type:\n",
    "                unpack_data = data[position + 4: position + 4 + 8]\n",
    "                values = unpack('<ff', unpack_data)\n",
    "                data_series.loc[counter]['value'] = values[0]\n",
    "                data_series.loc[counter]['time'] = values[1]\n",
    "                counter += 1\n",
    "        \n",
    "        # count data fields\n",
    "        if (data_pos in triple_fields) or (data_pos in single_fields):\n",
    "            if fields_found.has_key(data_pos):\n",
    "                fields_found[data_pos] = fields_found[data_pos] + 1\n",
    "            else:\n",
    "                fields_found[data_pos] = 1\n",
    "                \n",
    "        # shift reading position\n",
    "        position += 1\n",
    "    \n",
    "    # get detected fields info\n",
    "    for key in fields_found.keys():\n",
    "        print \"For {:s} readed {:d} records\".format(key, fields_found[key])\n",
    "    \n",
    "    return data_series\n"
   ]
  },
  {
   "cell_type": "code",
   "execution_count": 35,
   "metadata": {
    "collapsed": false
   },
   "outputs": [
    {
     "name": "stdout",
     "output_type": "stream",
     "text": [
      "For HUNN readed 5009 records\n",
      "For BTNN readed 5015 records\n",
      "For HTNN readed 5024 records\n",
      "For GYRC readed 4971 records\n",
      "For ACRC readed 4972 records\n",
      "(4972, 4)\n",
      "             x         y         z          time\n",
      "4962 -0.990058  0.002428  0.010723  1.503675e+09\n",
      "4963 -0.991539  0.001942  0.010723  1.503675e+09\n",
      "4964 -0.991045  0.001457  0.011454  1.503675e+09\n",
      "4965 -0.990551  0.001457  0.011454  1.503675e+09\n",
      "4966 -0.990551  0.001942  0.011697  1.503675e+09\n",
      "4967 -0.991292  0.001942  0.011454  1.503675e+09\n",
      "4968 -0.990305  0.001700  0.011210  1.503675e+09\n",
      "4969 -0.991045  0.001214  0.011941  1.503675e+09\n",
      "4970 -0.990305  0.001700  0.009748  1.503675e+09\n",
      "4971 -0.990305  0.001942  0.010966  1.503675e+09\n"
     ]
    }
   ],
   "source": [
    "sense_data = load_data('/home/sholc/optic_env/sources/hdeer/data/dump_000001.bin', 'ACR')\n",
    "print sense_data.shape\n",
    "print sense_data.tail(10)\n"
   ]
  },
  {
   "cell_type": "code",
   "execution_count": 46,
   "metadata": {
    "collapsed": false
   },
   "outputs": [
    {
     "data": {
      "text/plain": [
       "<matplotlib.axes._subplots.AxesSubplot at 0x7ff49020e5d0>"
      ]
     },
     "execution_count": 46,
     "metadata": {},
     "output_type": "execute_result"
    },
    {
     "data": {
      "image/png": "[encoded data removed]",
      "text/plain": [
       "<matplotlib.figure.Figure at 0x7ff4902199d0>"
      ]
     },
     "metadata": {},
     "output_type": "display_data"
    }
   ],
   "source": [
    "sense_data.plot(kind='line', y=['time'], figsize=(10, 12))"
   ]
  },
  {
   "cell_type": "code",
   "execution_count": 42,
   "metadata": {
    "collapsed": false
   },
   "outputs": [
    {
     "name": "stdout",
     "output_type": "stream",
     "text": [
      "             x         y         z   time\n",
      "4962 -0.990058  0.002428  0.010723  256.0\n",
      "4963 -0.991539  0.001942  0.010723  256.0\n",
      "4964 -0.991045  0.001457  0.011454  256.0\n",
      "4965 -0.990551  0.001457  0.011454  256.0\n",
      "4966 -0.990551  0.001942  0.011697  256.0\n",
      "4967 -0.991292  0.001942  0.011454  256.0\n",
      "4968 -0.990305  0.001700  0.011210  256.0\n",
      "4969 -0.991045  0.001214  0.011941  256.0\n",
      "4970 -0.990305  0.001700  0.009748  256.0\n",
      "4971 -0.990305  0.001942  0.010966  256.0\n"
     ]
    }
   ],
   "source": [
    "sense_data['time'] = sense_data['time'] - sense_data['time'].min()\n"
   ]
  },
  {
   "cell_type": "code",
   "execution_count": 45,
   "metadata": {
    "collapsed": false
   },
   "outputs": [
    {
     "name": "stdout",
     "output_type": "stream",
     "text": [
      "            x         y         z   time\n",
      "0   -0.991786  0.001214  0.011210    0.0\n",
      "1   -0.991292  0.001457  0.010966    0.0\n",
      "2   -0.992032  0.003642  0.010235    0.0\n",
      "3   -0.992032  0.001942  0.010235    0.0\n",
      "4   -0.990058  0.001214  0.012429    0.0\n",
      "5   -0.992526  0.001700  0.011454    0.0\n",
      "6   -0.992279  0.001700  0.012429    0.0\n",
      "7   -0.991292  0.001700  0.010235    0.0\n",
      "8   -0.992279  0.002185  0.010723    0.0\n",
      "9   -0.991292  0.001942  0.009748    0.0\n",
      "10  -0.993020  0.001700  0.010479    0.0\n",
      "11  -0.992032  0.001700  0.009748    0.0\n",
      "12  -0.991539  0.001457  0.010966    0.0\n",
      "13  -0.992526  0.002185  0.009992    0.0\n",
      "14  -0.992773  0.001457  0.009748    0.0\n",
      "15  -0.991292  0.001700  0.010723    0.0\n",
      "16  -0.993760  0.001214  0.011697    0.0\n",
      "17  -0.989317  0.001942  0.011941    0.0\n",
      "18  -0.990798  0.001457  0.011454    0.0\n",
      "19  -0.991786  0.002914  0.009017    0.0\n",
      "20  -0.990551  0.000486  0.009992    0.0\n",
      "21  -0.992279  0.001700  0.007311    0.0\n",
      "22  -0.990058  0.001942  0.012185    0.0\n",
      "23  -0.990058  0.000971  0.012916    0.0\n",
      "24  -0.991786  0.001457  0.012672    0.0\n",
      "25  -0.991539  0.001700  0.010479    0.0\n",
      "26  -0.990798  0.002671  0.011210    0.0\n",
      "27  -0.990058  0.000971  0.009504    0.0\n",
      "28  -0.991045  0.001700  0.010966    0.0\n",
      "29  -0.992032  0.001457  0.010723    0.0\n",
      "..        ...       ...       ...    ...\n",
      "970 -0.991786  0.001457  0.011210  128.0\n",
      "971 -0.990551  0.001700  0.011697  128.0\n",
      "972 -0.991539  0.001700  0.009748  128.0\n",
      "973 -0.991539  0.002185  0.011454  128.0\n",
      "974 -0.991539  0.000971  0.012429  128.0\n",
      "975 -0.990798  0.001700  0.010479  128.0\n",
      "976 -0.991045  0.001457  0.012185  128.0\n",
      "977 -0.992032  0.001457  0.011454  128.0\n",
      "978 -0.990305  0.001700  0.011210  128.0\n",
      "979 -0.990305  0.000971  0.009748  128.0\n",
      "980 -0.991786  0.001942  0.009992  128.0\n",
      "981 -0.990551  0.001214  0.010966  128.0\n",
      "982 -0.993514  0.002428  0.010966  128.0\n",
      "983 -0.989070  0.000243  0.010235  128.0\n",
      "984 -0.992032  0.003885  0.011697  128.0\n",
      "985 -0.990058 -0.000000  0.009992  128.0\n",
      "986 -0.991045  0.002428  0.011941  128.0\n",
      "987 -0.990798  0.000728  0.011454  128.0\n",
      "988 -0.992032  0.001942  0.011454  128.0\n",
      "989 -0.991292  0.000486  0.010479  128.0\n",
      "990 -0.990305  0.000971  0.009992  128.0\n",
      "991 -0.991045  0.001700  0.010966  128.0\n",
      "992 -0.992032  0.000728  0.009992  128.0\n",
      "993 -0.991045  0.001457  0.011454  128.0\n",
      "994 -0.990058  0.000486  0.010966  128.0\n",
      "995 -0.991045  0.003156  0.011697  128.0\n",
      "996 -0.991045 -0.000241  0.010966  128.0\n",
      "997 -0.992032  0.002671  0.011697  128.0\n",
      "998 -0.992279  0.001457  0.010966  128.0\n",
      "999 -0.991045  0.001457  0.010723  128.0\n",
      "\n",
      "[1000 rows x 4 columns]\n"
     ]
    }
   ],
   "source": [
    "print sense_data.head(1000)"
   ]
  },
  {
   "cell_type": "code",
   "execution_count": null,
   "metadata": {
    "collapsed": true
   },
   "outputs": [],
   "source": []
  }
 ],
 "metadata": {
  "kernelspec": {
   "display_name": "Python 2",
   "language": "python",
   "name": "python2"
  },
  "language_info": {
   "codemirror_mode": {
    "name": "ipython",
    "version": 2
   },
   "file_extension": ".py",
   "mimetype": "text/x-python",
   "name": "python",
   "nbconvert_exporter": "python",
   "pygments_lexer": "ipython2",
   "version": "2.7.12"
  }
 },
 "nbformat": 4,
 "nbformat_minor": 2
}
